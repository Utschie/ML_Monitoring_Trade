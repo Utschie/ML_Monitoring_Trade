{
 "cells": [
  {
   "cell_type": "code",
   "execution_count": 1,
   "metadata": {},
   "outputs": [],
   "source": [
    "import os\n",
    "import torch\n",
    "from torch import nn\n",
    "from torch.utils.data import Dataset, DataLoader\n",
    "import torch.nn.functional as F\n",
    "import sys\n",
    "import pandas as pd\n",
    "import numpy as np\n",
    "import csv\n",
    "import random\n",
    "import re\n",
    "from sklearn.decomposition import TruncatedSVD\n",
    "from torch.nn.utils.rnn import pad_sequence#用来填充序列\n",
    "import time\n",
    "from prefetch_generator import BackgroundGenerator\n",
    "from torch.utils.tensorboard import SummaryWriter\n",
    "from pywick.optimizers.nadam import Nadam#使用pywick包里的nadam优化器\n",
    "from torch.optim import lr_scheduler"
   ]
  },
  {
   "cell_type": "code",
   "execution_count": 2,
   "metadata": {},
   "outputs": [],
   "source": [
    "filepath = '/home/jsy/train_20160701-20170531/2016-10-02/876772.csv'"
   ]
  },
  {
   "cell_type": "code",
   "execution_count": 6,
   "metadata": {},
   "outputs": [],
   "source": [
    "def tsvd(frame):\n",
    "        tsvd = TruncatedSVD(1)\n",
    "        if frame.shape[0] != 1:\n",
    "            newframe = tsvd.fit_transform(np.transpose(frame))#降维成（1,10）的矩阵\n",
    "        else:\n",
    "            return frame.reshape((10,1))#第一行需要reshape一下\n",
    "        return newframe\n",
    "    \n",
    "def mrx2vec(flist):#把截断奇异值的方法把矩阵变成向量(matrix2vec/img2vec)，传入：len(frametimelist)*(306*10),传出：len(frametimelist)*10\n",
    "    vectensor = np.array(list(map(tsvd,flist))).squeeze(2)\n",
    "    #veclist = veclist.transpose()\n",
    "    #vectensor = torch.from_numpy(veclist)#转成张量\n",
    "    return vectensor#传出一个形状为(1,序列长度,10)的张量，因为后面传入模型之前，还需要做一下pad_sequence(0维是batch_size维)\n"
   ]
  },
  {
   "cell_type": "code",
   "execution_count": 7,
   "metadata": {},
   "outputs": [
    {
     "name": "stdout",
     "output_type": "stream",
     "text": [
      "耗时0.5449409484863281秒\n"
     ]
    }
   ],
   "source": [
    "#原版\n",
    "start = time.time()\n",
    "data = pd.read_csv(filepath)#读取文件\n",
    "data = data.drop(columns=['league','zhudui','kedui','companyname'])#去除非数字的列\n",
    "frametimelist=data.frametime.value_counts().sort_index(ascending=False).index#将frametime的值读取成列表\n",
    "framelist =list()#framelist为一个空列表,长度与frametimelist相同,一定要规定好具体形状和float类型，否则dataloader无法读取\n",
    "'''\n",
    "此处两个循环算法太慢，用pandas更慢，完全抛弃pandas后，数据处理速度从109秒降到了10秒，降到10秒后cpu利用率20%，再往上提也提不上去了，可能需要C++或C来写了\n",
    "'''\n",
    "new_data = np.array(data)\n",
    "lables = new_data[:,0]\n",
    "if len(frametimelist)>250:\n",
    "    frametimelist = [frametimelist[0]]+random.sample(list(frametimelist)[1:-1],248)+[frametimelist[-1]]#如果长度大于500,保留头尾，并在中间随机抽取498个，共计500个\n",
    "    frametimelist.sort(reverse=True)#并降序排列\n",
    "for i in frametimelist:\n",
    "    state = new_data[lables==i]#从第一次变盘开始得到当次转移\n",
    "    #state = np.array(state)#不必转成numpy多维数组，因为已经是了\n",
    "    state = np.delete(state,(0,1), axis=-1)#去掉frametime和cid\n",
    "    #在填充成矩阵之前需要知道所有数据中到底有多少个cid\n",
    "    framelist.append(state)\n",
    "frametimelist = np.array(frametimelist)\n",
    "vectensor = mrx2vec(framelist)\n",
    "len_frame = vectensor.shape[0]\n",
    "if len_frame<250:\n",
    "    vectensor = np.concatenate((np.zeros((250-len_frame,10),dtype=np.float64),vectensor),axis=0)#如果不足500，则在前面用0填充\n",
    "vectensor = torch.from_numpy(vectensor)\n",
    "vectensor#传出一个帧列表,也可以把frametimelist一并传出来，此处暂不考虑位置参数的问题\n",
    "end = time.time()\n",
    "print('耗时'+str(end-start)+'秒')"
   ]
  },
  {
   "cell_type": "code",
   "execution_count": 18,
   "metadata": {},
   "outputs": [
    {
     "data": {
      "text/plain": [
       "torch.Size([250, 10])"
      ]
     },
     "execution_count": 18,
     "metadata": {},
     "output_type": "execute_result"
    }
   ],
   "source": [
    "vectensor.shape"
   ]
  },
  {
   "cell_type": "code",
   "execution_count": 4,
   "metadata": {},
   "outputs": [
    {
     "name": "stdout",
     "output_type": "stream",
     "text": [
      "耗时0.33396363258361816秒\n"
     ]
    }
   ],
   "source": [
    "#新版\n",
    "start = time.time()\n",
    "all_mean = np.array([0.92236896, 2.56799437, 3.64873151, 3.94965805])#全样本均值\n",
    "all_std = np.array([0.03154385, 1.76454825, 1.0027637 , 3.01005411])#全样本标准差\n",
    "data = pd.read_csv(filepath)#读取文件\n",
    "data = data.drop(columns=['league','zhudui','kedui','companyname'])#去除非数字的列\n",
    "frametimelist=data.frametime.value_counts().sort_index(ascending=False).index#将frametime的值读取成列表\n",
    "framelist =list()#framelist为一个空列表,长度与frametimelist相同,一定要规定好具体形状和float类型，否则dataloader无法读取\n",
    "'''\n",
    "此处两个循环算法太慢，用pandas更慢，完全抛弃pandas后，数据处理速度从109秒降到了10秒，降到10秒后cpu利用率20%，再往上提也提不上去了，可能需要C++或C来写了\n",
    "'''\n",
    "new_data = np.array(data)\n",
    "lables = new_data[:,0]\n",
    "if len(frametimelist)>250:#如果总帧数大于250,则随机挑选250，若不足250,则在后面处理vectensor时补0\n",
    "    frametimelist = [frametimelist[0]]+random.sample(list(frametimelist)[1:-1],248)+[frametimelist[-1]]#如果长度大于500,保留头尾，并在中间随机抽取498个，共计500个\n",
    "    frametimelist.sort(reverse=True)#并降序排列\n",
    "for i in frametimelist:\n",
    "    state = new_data[lables==i]#从第一次变盘开始得到当次转移\n",
    "    #state = np.array(state)#不必转成numpy多维数组，因为已经是了\n",
    "    state = np.delete(state,(0,1), axis=-1)#去掉frametime和cid\n",
    "    #在填充成矩阵之前需要知道所有数据中到底有多少个cid\n",
    "    max = (state.max(axis=0)[0:4]-all_mean)/all_std#标准化\n",
    "    mean = (state.mean(axis=0)[0:4]-all_mean)/all_std\n",
    "    min = (state.min(axis=0)[0:4]-all_mean)/all_std\n",
    "    max_min = np.concatenate((max,mean,min),axis=0)\n",
    "    framelist.append(max_min)\n",
    "frametimelist = np.array(frametimelist)\n",
    "vectensor = np.array(framelist)\n",
    "len_frame = vectensor.shape[0]\n",
    "if len_frame<250:\n",
    "    vectensor = np.concatenate((np.zeros((250-len_frame,12),dtype=np.float64),vectensor),axis=0)#如果不足500，则在前面用0填充\n",
    "vectensor = torch.from_numpy(vectensor)\n",
    "vectensor#传出一个帧列表,也可以把frametimelist一并传出来，此处暂不考虑位置参数的问题\n",
    "end = time.time()\n",
    "print('耗时'+str(end-start)+'秒')"
   ]
  },
  {
   "cell_type": "code",
   "execution_count": 5,
   "metadata": {},
   "outputs": [
    {
     "data": {
      "text/plain": [
       "tensor([[-0.3921,  0.2448, -0.3478,  ...,  0.2448, -0.3478, -0.5979],\n",
       "        [ 0.8760,  1.4916,  0.4002,  ...,  0.2448, -0.3478, -0.7740],\n",
       "        [ 0.8760,  1.4916,  0.4002,  ...,  0.2448, -0.3478, -0.7740],\n",
       "        ...,\n",
       "        [ 1.8270,  1.9450,  0.6495,  ...,  0.2448, -0.4475, -0.8304],\n",
       "        [ 1.8270,  1.9450,  0.6495,  ...,  0.2448, -0.4475, -0.8304],\n",
       "        [ 1.8270,  1.9450,  0.6495,  ...,  0.2448, -0.4974, -0.8304]],\n",
       "       dtype=torch.float64)"
      ]
     },
     "execution_count": 5,
     "metadata": {},
     "output_type": "execute_result"
    }
   ],
   "source": [
    "vectensor"
   ]
  },
  {
   "cell_type": "code",
   "execution_count": 47,
   "metadata": {},
   "outputs": [],
   "source": [
    "vectensor = np.array(framelist)"
   ]
  },
  {
   "cell_type": "code",
   "execution_count": 51,
   "metadata": {},
   "outputs": [],
   "source": [
    "vectensor = np.delete(vectensor,[1,50],axis=0)"
   ]
  },
  {
   "cell_type": "code",
   "execution_count": 53,
   "metadata": {},
   "outputs": [
    {
     "data": {
      "text/plain": [
       "tensor([[0.0000, 0.0000, 0.0000,  ..., 0.0000, 0.0000, 0.0000],\n",
       "        [0.0000, 0.0000, 0.0000,  ..., 0.0000, 0.0000, 0.0000],\n",
       "        [0.9100, 3.0000, 3.3000,  ..., 3.0000, 3.3000, 2.1500],\n",
       "        ...,\n",
       "        [0.9800, 6.0000, 4.3000,  ..., 3.0000, 3.2000, 1.4500],\n",
       "        [0.9800, 6.0000, 4.3000,  ..., 3.0000, 3.1500, 1.4500],\n",
       "        [0.9800, 6.0000, 4.3000,  ..., 3.0000, 3.1500, 1.4500]],\n",
       "       dtype=torch.float64)"
      ]
     },
     "execution_count": 53,
     "metadata": {},
     "output_type": "execute_result"
    }
   ],
   "source": [
    "len_frame = vectensor.shape[0]\n",
    "if len_frame<250:\n",
    "    vectensor = np.concatenate((np.zeros((250-len_frame,12),dtype=np.float64),vectensor),axis=0)#如果不足500，则在前面用0填充\n",
    "vectensor = torch.from_numpy(vectensor)\n",
    "vectensor#传出一个帧列表,也可以把frametimelist一并传出来，此处暂不考虑位置参数的问题"
   ]
  },
  {
   "cell_type": "code",
   "execution_count": 54,
   "metadata": {},
   "outputs": [
    {
     "data": {
      "text/plain": [
       "torch.Size([250, 12])"
      ]
     },
     "execution_count": 54,
     "metadata": {},
     "output_type": "execute_result"
    }
   ],
   "source": [
    "vectensor.shape"
   ]
  },
  {
   "cell_type": "code",
   "execution_count": 45,
   "metadata": {},
   "outputs": [],
   "source": [
    "frametimelist=data.frametime.value_counts().sort_index(ascending=False).index"
   ]
  },
  {
   "cell_type": "code",
   "execution_count": 46,
   "metadata": {},
   "outputs": [
    {
     "data": {
      "text/plain": [
       "2038"
      ]
     },
     "execution_count": 46,
     "metadata": {},
     "output_type": "execute_result"
    }
   ],
   "source": [
    "len(frametimelist)"
   ]
  },
  {
   "cell_type": "code",
   "execution_count": 37,
   "metadata": {},
   "outputs": [
    {
     "data": {
      "text/plain": [
       "(250, 8)"
      ]
     },
     "execution_count": 37,
     "metadata": {},
     "output_type": "execute_result"
    }
   ],
   "source": [
    "np.array(framelist).shape"
   ]
  },
  {
   "cell_type": "code",
   "execution_count": 19,
   "metadata": {},
   "outputs": [],
   "source": [
    "a = framelist[249]"
   ]
  },
  {
   "cell_type": "code",
   "execution_count": 26,
   "metadata": {},
   "outputs": [
    {
     "data": {
      "text/plain": [
       "array([0.98, 6.  , 4.3 , 2.15])"
      ]
     },
     "execution_count": 26,
     "metadata": {},
     "output_type": "execute_result"
    }
   ],
   "source": [
    "a.max(axis=0)[0:4]"
   ]
  },
  {
   "cell_type": "code",
   "execution_count": 24,
   "metadata": {},
   "outputs": [
    {
     "data": {
      "text/plain": [
       "array([0.79  , 3.    , 3.15  , 1.45  , 0.1626, 0.224 , 0.4223, 0.64  ,\n",
       "       0.77  , 0.78  ])"
      ]
     },
     "execution_count": 24,
     "metadata": {},
     "output_type": "execute_result"
    }
   ],
   "source": [
    "a.min(axis=0)"
   ]
  },
  {
   "cell_type": "code",
   "execution_count": 27,
   "metadata": {},
   "outputs": [
    {
     "data": {
      "text/plain": [
       "array([0.79, 3.  , 3.15, 1.45])"
      ]
     },
     "execution_count": 27,
     "metadata": {},
     "output_type": "execute_result"
    }
   ],
   "source": [
    "a.min(axis=0)[0:4]"
   ]
  },
  {
   "cell_type": "code",
   "execution_count": null,
   "metadata": {},
   "outputs": [],
   "source": []
  }
 ],
 "metadata": {
  "kernelspec": {
   "display_name": "Python 3",
   "language": "python",
   "name": "python3"
  },
  "language_info": {
   "codemirror_mode": {
    "name": "ipython",
    "version": 3
   },
   "file_extension": ".py",
   "mimetype": "text/x-python",
   "name": "python",
   "nbconvert_exporter": "python",
   "pygments_lexer": "ipython3",
   "version": "3.8.5"
  }
 },
 "nbformat": 4,
 "nbformat_minor": 4
}
