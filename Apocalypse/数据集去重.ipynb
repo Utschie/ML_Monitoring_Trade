{
 "cells": [
  {
   "cell_type": "code",
   "execution_count": 13,
   "metadata": {
    "scrolled": true
   },
   "outputs": [],
   "source": [
    "import os\n",
    "import torch\n",
    "from torch import nn\n",
    "from torch.utils.data import Dataset, DataLoader\n",
    "import torch.nn.functional as F\n",
    "import sys\n",
    "import pandas as pd\n",
    "import numpy as np\n",
    "import csv\n",
    "import random\n",
    "import re\n",
    "from sklearn.decomposition import TruncatedSVD\n",
    "from torch.nn.utils.rnn import pad_sequence#用来填充序列\n",
    "import time\n",
    "from prefetch_generator import BackgroundGenerator\n",
    "from torch.utils.tensorboard import SummaryWriter\n",
    "filepath = '/media/jsy/WD/train_20170601-20180210'\n",
    "lablelist = pd.read_csv('/home/jsy/data/lablelist.csv',index_col = 0)\n",
    "filelist0 = [i+'/'+k for i,j,k in os.walk(filepath) for k in k]#总文件\n",
    "#先删除不在lable里的文件\n",
    "for i in filelist0:\n",
    "    bid = int(re.findall(r'/(\\d*?).csv',i)[0])#取出比赛的id\n",
    "    if bid not in lablelist.index:\n",
    "        os.remove(i)#如果不在lable里，删除这个文件\n",
    "        print('已删除'+i)\n",
    "filelist0 = [i+'/'+k for i,j,k in os.walk(filepath) for k in k]#重新在出一个filelist0\n",
    "filelist = [data_path for data_path in filelist0 if int(re.findall(r'/(\\d*?).csv',data_path)[0]) in lablelist.index]\n",
    "def f_id(data_path):\n",
    "    return int(re.findall(r'/(\\d*?).csv',data_path)[0])\n",
    "    \n",
    "idlist_t0 = list(map(f_id,filelist))#在lablelist里的文件的所有id\n",
    "lst0 = list(set(idlist_t0))#id在lablelist里并且去重后的文件\n",
    "#删除在lable里但是重复的文件，保留遇到的第一个     \n",
    "for i in filelist:\n",
    "    bid = int(re.findall(r'/(\\d*?).csv',i)[0])#取出比赛的id\n",
    "    if bid in lst0:\n",
    "        lst0.remove(bid)#如果在列表里，删除这个bid\n",
    "    else:\n",
    "        os.remove(i)#如果不在说明重复了，删除\n",
    "        print('已删除'+i)\n",
    "\n"
   ]
  },
  {
   "cell_type": "code",
   "execution_count": 5,
   "metadata": {},
   "outputs": [],
   "source": [
    "def f_id(data_path):\n",
    "    return int(re.findall(r'/(\\d*?).csv',data_path)[0])\n",
    "    \n",
    "idlist_t0 = list(map(f_id,filelist))#在lablelist里的文件的所有id"
   ]
  },
  {
   "cell_type": "code",
   "execution_count": 7,
   "metadata": {},
   "outputs": [
    {
     "data": {
      "text/plain": [
       "24215"
      ]
     },
     "execution_count": 7,
     "metadata": {},
     "output_type": "execute_result"
    }
   ],
   "source": [
    "len(idlist_t0)"
   ]
  },
  {
   "cell_type": "code",
   "execution_count": 8,
   "metadata": {},
   "outputs": [],
   "source": [
    "lst0 = list(set(idlist_t0))"
   ]
  },
  {
   "cell_type": "code",
   "execution_count": 9,
   "metadata": {},
   "outputs": [
    {
     "data": {
      "text/plain": [
       "24017"
      ]
     },
     "execution_count": 9,
     "metadata": {},
     "output_type": "execute_result"
    }
   ],
   "source": [
    "len(lst0)"
   ]
  },
  {
   "cell_type": "code",
   "execution_count": null,
   "metadata": {},
   "outputs": [],
   "source": []
  }
 ],
 "metadata": {
  "kernelspec": {
   "display_name": "Python 3",
   "language": "python",
   "name": "python3"
  },
  "language_info": {
   "codemirror_mode": {
    "name": "ipython",
    "version": 3
   },
   "file_extension": ".py",
   "mimetype": "text/x-python",
   "name": "python",
   "nbconvert_exporter": "python",
   "pygments_lexer": "ipython3",
   "version": "3.8.5"
  }
 },
 "nbformat": 4,
 "nbformat_minor": 4
}
